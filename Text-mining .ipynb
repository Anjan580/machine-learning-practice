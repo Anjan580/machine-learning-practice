{
 "cells": [
  {
   "cell_type": "code",
   "execution_count": 1,
   "id": "94a9aa19-e0de-43f6-9758-83634e552e42",
   "metadata": {},
   "outputs": [],
   "source": [
    "text = '''A decision tree is a flowchart-like representation, with internal nodes representing features, branches representing rules, and leaf nodes representing algorithm results This versatile supervised machine-learning algorithm applies to both classification and regression problems, ie and power. Decision trees are valued for their interpretability, as the rules they generate are easy to understand.\n",
    "\n",
    "What is Iterative Dichotomiser3 Algorithm?\n",
    "ID3 or Iterative Dichotomiser3 Algorithm is used in machine learning for building decision trees from a given dataset. It was developed in 1986 by Ross Quinlan. It is a greedy algorithm that builds a decision tree by recursively partitioning the data set into smaller and smaller subsets until all data points in each subset belong to the same class. It employs a top-down approach, recursively selecting features to split the dataset based on information gain.\n",
    "\n",
    "Thе ID3 (Iterative Dichotomiser 3) algorithm is a classic decision tree algorithm used for both classification and regression tasks.ID3 deals primarily with categorical properties, which means that it can efficiently handle objects with a discrete set of values. This property is consistent with its suitability for problems where the input features are categorical rather than continuous.One of the strengths of ID3 is its ability to generate interpretable decision trees. The resulting tree structure is easily understood and visualized, providing insight into the decision-making process. However, ID3 can be sensitive to noisy data and prone to overfitting, capturing details in the training data that may not adequately account for new unseen data.'''"
   ]
  },
  {
   "cell_type": "code",
   "execution_count": 2,
   "id": "91a03b03-ad1a-43b8-a2a9-2c4217d0e1e5",
   "metadata": {},
   "outputs": [
    {
     "name": "stdout",
     "output_type": "stream",
     "text": [
      "A decision tree is a flowchart-like representation, with internal nodes representing features, branches representing rules, and leaf nodes representing algorithm results This versatile supervised machine-learning algorithm applies to both classification and regression problems, ie and power. Decision trees are valued for their interpretability, as the rules they generate are easy to understand.\n",
      "\n",
      "What is Iterative Dichotomiser3 Algorithm?\n",
      "ID3 or Iterative Dichotomiser3 Algorithm is used in machine learning for building decision trees from a given dataset. It was developed in 1986 by Ross Quinlan. It is a greedy algorithm that builds a decision tree by recursively partitioning the data set into smaller and smaller subsets until all data points in each subset belong to the same class. It employs a top-down approach, recursively selecting features to split the dataset based on information gain.\n",
      "\n",
      "Thе ID3 (Iterative Dichotomiser 3) algorithm is a classic decision tree algorithm used for both classification and regression tasks.ID3 deals primarily with categorical properties, which means that it can efficiently handle objects with a discrete set of values. This property is consistent with its suitability for problems where the input features are categorical rather than continuous.One of the strengths of ID3 is its ability to generate interpretable decision trees. The resulting tree structure is easily understood and visualized, providing insight into the decision-making process. However, ID3 can be sensitive to noisy data and prone to overfitting, capturing details in the training data that may not adequately account for new unseen data.\n"
     ]
    }
   ],
   "source": [
    "print(text)"
   ]
  },
  {
   "cell_type": "code",
   "execution_count": 3,
   "id": "7bbc657f-3305-46c9-b9e0-7dafa8ed1dd3",
   "metadata": {},
   "outputs": [],
   "source": [
    "# with open \n",
    "with open('text_doc.txt','r', encoding = 'utf-8') as file:\n",
    "    content = file.read()"
   ]
  },
  {
   "cell_type": "markdown",
   "id": "d3279feb-99e5-4d3d-8d87-259ff1e754f9",
   "metadata": {},
   "source": [
    "Different modes:\n",
    "1. read mode 'r'\n",
    "2. write mode 'w'\n",
    "3. append mode 'a'"
   ]
  },
  {
   "cell_type": "code",
   "execution_count": 4,
   "id": "c0b4ec0e-19a9-4b39-94b0-45a3e48e9b83",
   "metadata": {},
   "outputs": [
    {
     "name": "stdout",
     "output_type": "stream",
     "text": [
      "A decision tree is a flowchart-like representation, with internal nodes representing features, branches representing rules, and leaf nodes representing algorithm results This versatile supervised machine-learning algorithm applies to both classification and regression problems, ie and power. Decision trees are valued for their interpretability, as the rules they generate are easy to understand.\n",
      "\n",
      "What is Iterative Dichotomiser3 Algorithm?\n",
      "ID3 or Iterative Dichotomiser3 Algorithm is used in machine learning for building decision trees from a given dataset. It was developed in 1986 by Ross Quinlan. It is a greedy algorithm that builds a decision tree by recursively partitioning the data set into smaller and smaller subsets until all data points in each subset belong to the same class. It employs a top-down approach, recursively selecting features to split the dataset based on information gain.\n",
      "\n",
      "Thе ID3 (Iterative Dichotomiser 3) algorithm is a classic decision tree algorithm used for both classification and regression tasks.ID3 deals primarily with categorical properties, which means that it can efficiently handle objects with a discrete set of values. This property is consistent with its suitability for problems where the input features are categorical rather than continuous.One of the strengths of ID3 is its ability to generate interpretable decision trees. The resulting tree structure is easily understood and visualized, providing insight into the decision-making process. However, ID3 can be sensitive to noisy data and prone to overfitting, capturing details in the training data that may not adequately account for new unseen data.\n"
     ]
    }
   ],
   "source": [
    "print(content)"
   ]
  },
  {
   "cell_type": "code",
   "execution_count": 5,
   "id": "62aa8a42-c39f-4cf7-a25b-27d2302ece47",
   "metadata": {},
   "outputs": [],
   "source": [
    "with open('text_doc_2.txt','w', encoding = 'utf-8') as file:\n",
    "    file.write(text)"
   ]
  },
  {
   "cell_type": "code",
   "execution_count": 8,
   "id": "fcee05e0-8486-4081-b628-4ebad0fd9dcc",
   "metadata": {},
   "outputs": [],
   "source": [
    "from pathlib import Path"
   ]
  },
  {
   "cell_type": "code",
   "execution_count": 11,
   "id": "ee7b5406-c6de-46b3-ae0e-5ebe078c78cc",
   "metadata": {},
   "outputs": [
    {
     "name": "stdout",
     "output_type": "stream",
     "text": [
      "Defaulting to user installation because normal site-packages is not writeable\n",
      "Collecting pathlib\n",
      "  Downloading pathlib-1.0.1-py3-none-any.whl.metadata (5.1 kB)\n",
      "Downloading pathlib-1.0.1-py3-none-any.whl (14 kB)\n",
      "Installing collected packages: pathlib\n",
      "Successfully installed pathlib-1.0.1\n",
      "Note: you may need to restart the kernel to use updated packages.\n"
     ]
    }
   ],
   "source": [
    "pip install pathlib"
   ]
  },
  {
   "cell_type": "code",
   "execution_count": 9,
   "id": "8f7b64be-bd32-46d5-9513-c1fc2be01aee",
   "metadata": {},
   "outputs": [],
   "source": [
    "# text = path('text_doc.txt')\n"
   ]
  },
  {
   "cell_type": "markdown",
   "id": "49f4c3ca-c227-4fb9-827b-57e67e9216e9",
   "metadata": {},
   "source": [
    "1. Word tokenizing\n",
    "2. Punctuation marks ==> ; , . ! ? @ # etc\n",
    "3. stop words removal ==> a, an , the , is , of , but and , to etc\n",
    "5. lemmatization ==> back to root word, eg: run , running, run == run\n",
    "6. stemminng ==> run , running, prefix, suffix,\n",
    "7. most occurance"
   ]
  },
  {
   "cell_type": "markdown",
   "id": "11eff912-ceed-4748-9522-f4cae9f88c67",
   "metadata": {},
   "source": [
    "# words tokenization"
   ]
  },
  {
   "cell_type": "code",
   "execution_count": 13,
   "id": "dae2402d-27a1-405f-9bca-9167bfe9509d",
   "metadata": {},
   "outputs": [],
   "source": [
    "from nltk import word_tokenize"
   ]
  },
  {
   "cell_type": "code",
   "execution_count": 18,
   "id": "f15d5002-1837-45e8-931a-f957ff2fb3d6",
   "metadata": {},
   "outputs": [
    {
     "name": "stdout",
     "output_type": "stream",
     "text": [
      "['A', 'decision', 'tree', 'is', 'a', 'flowchart-like', 'representation', ',', 'with', 'internal', 'nodes', 'representing', 'features', ',', 'branches', 'representing', 'rules', ',', 'and', 'leaf', 'nodes', 'representing', 'algorithm', 'results', 'This', 'versatile', 'supervised', 'machine-learning', 'algorithm', 'applies', 'to', 'both', 'classification', 'and', 'regression', 'problems', ',', 'ie', 'and', 'power', '.', 'Decision', 'trees', 'are', 'valued', 'for', 'their', 'interpretability', ',', 'as', 'the', 'rules', 'they', 'generate', 'are', 'easy', 'to', 'understand', '.', 'What', 'is', 'Iterative', 'Dichotomiser3', 'Algorithm', '?', 'ID3', 'or', 'Iterative', 'Dichotomiser3', 'Algorithm', 'is', 'used', 'in', 'machine', 'learning', 'for', 'building', 'decision', 'trees', 'from', 'a', 'given', 'dataset', '.', 'It', 'was', 'developed', 'in', '1986', 'by', 'Ross', 'Quinlan', '.', 'It', 'is', 'a', 'greedy', 'algorithm', 'that', 'builds', 'a', 'decision', 'tree', 'by', 'recursively', 'partitioning', 'the', 'data', 'set', 'into', 'smaller', 'and', 'smaller', 'subsets', 'until', 'all', 'data', 'points', 'in', 'each', 'subset', 'belong', 'to', 'the', 'same', 'class', '.', 'It', 'employs', 'a', 'top-down', 'approach', ',', 'recursively', 'selecting', 'features', 'to', 'split', 'the', 'dataset', 'based', 'on', 'information', 'gain', '.', 'Thе', 'ID3', '(', 'Iterative', 'Dichotomiser', '3', ')', 'algorithm', 'is', 'a', 'classic', 'decision', 'tree', 'algorithm', 'used', 'for', 'both', 'classification', 'and', 'regression', 'tasks.ID3', 'deals', 'primarily', 'with', 'categorical', 'properties', ',', 'which', 'means', 'that', 'it', 'can', 'efficiently', 'handle', 'objects', 'with', 'a', 'discrete', 'set', 'of', 'values', '.', 'This', 'property', 'is', 'consistent', 'with', 'its', 'suitability', 'for', 'problems', 'where', 'the', 'input', 'features', 'are', 'categorical', 'rather', 'than', 'continuous.One', 'of', 'the', 'strengths', 'of', 'ID3', 'is', 'its', 'ability', 'to', 'generate', 'interpretable', 'decision', 'trees', '.', 'The', 'resulting', 'tree', 'structure', 'is', 'easily', 'understood', 'and', 'visualized', ',', 'providing', 'insight', 'into', 'the', 'decision-making', 'process', '.', 'However', ',', 'ID3', 'can', 'be', 'sensitive', 'to', 'noisy', 'data', 'and', 'prone', 'to', 'overfitting', ',', 'capturing', 'details', 'in', 'the', 'training', 'data', 'that', 'may', 'not', 'adequately', 'account', 'for', 'new', 'unseen', 'data', '.']\n"
     ]
    }
   ],
   "source": [
    "tokens = word_tokenize(content)\n",
    "print(tokens)"
   ]
  },
  {
   "cell_type": "code",
   "execution_count": 17,
   "id": "1899d0a9-eea0-4746-8eab-994e59c9cce9",
   "metadata": {},
   "outputs": [
    {
     "name": "stderr",
     "output_type": "stream",
     "text": [
      "[nltk_data] Downloading package punkt_tab to\n",
      "[nltk_data]     C:\\Users\\Dell\\AppData\\Roaming\\nltk_data...\n",
      "[nltk_data]   Unzipping tokenizers\\punkt_tab.zip.\n"
     ]
    },
    {
     "data": {
      "text/plain": [
       "True"
      ]
     },
     "execution_count": 17,
     "metadata": {},
     "output_type": "execute_result"
    }
   ],
   "source": [
    "nltk.download('punkt_tab')"
   ]
  },
  {
   "cell_type": "markdown",
   "id": "ad9e3f42-22f7-43d8-b502-8487e127df99",
   "metadata": {},
   "source": [
    "# most occurance"
   ]
  },
  {
   "cell_type": "code",
   "execution_count": 19,
   "id": "ff25081b-85c5-4494-b85d-d26f54266826",
   "metadata": {},
   "outputs": [],
   "source": [
    "from nltk.probability import FreqDist"
   ]
  },
  {
   "cell_type": "code",
   "execution_count": 20,
   "id": "a3ea8135-6177-4447-a88e-f6b2f08c972e",
   "metadata": {},
   "outputs": [],
   "source": [
    "most_occur = FreqDist(tokens)"
   ]
  },
  {
   "cell_type": "code",
   "execution_count": 21,
   "id": "9cf06996-dbcb-45b9-af73-12967e68dd18",
   "metadata": {},
   "outputs": [
    {
     "name": "stdout",
     "output_type": "stream",
     "text": [
      "<FreqDist with 152 samples and 266 outcomes>\n"
     ]
    }
   ],
   "source": [
    "print(most_occur)"
   ]
  },
  {
   "cell_type": "code",
   "execution_count": 22,
   "id": "9d2fb074-b8c3-4b30-bf98-dc74185ce92f",
   "metadata": {},
   "outputs": [],
   "source": [
    "# that means unique words are 152 and total words are 266"
   ]
  },
  {
   "cell_type": "code",
   "execution_count": 25,
   "id": "eb6a0209-4b40-4b4c-8666-92eb92d65267",
   "metadata": {},
   "outputs": [
    {
     "data": {
      "text/plain": [
       "[(',', 10),\n",
       " ('.', 10),\n",
       " ('is', 8),\n",
       " ('the', 8),\n",
       " ('a', 7),\n",
       " ('and', 7),\n",
       " ('to', 7),\n",
       " ('decision', 5),\n",
       " ('algorithm', 5),\n",
       " ('for', 5),\n",
       " ('data', 5),\n",
       " ('tree', 4),\n",
       " ('with', 4),\n",
       " ('ID3', 4),\n",
       " ('in', 4),\n",
       " ('representing', 3),\n",
       " ('features', 3),\n",
       " ('trees', 3),\n",
       " ('are', 3),\n",
       " ('Iterative', 3),\n",
       " ('It', 3),\n",
       " ('that', 3),\n",
       " ('of', 3),\n",
       " ('nodes', 2),\n",
       " ('rules', 2),\n",
       " ('This', 2),\n",
       " ('both', 2),\n",
       " ('classification', 2),\n",
       " ('regression', 2),\n",
       " ('problems', 2),\n",
       " ('generate', 2),\n",
       " ('Dichotomiser3', 2),\n",
       " ('Algorithm', 2),\n",
       " ('used', 2),\n",
       " ('dataset', 2),\n",
       " ('by', 2),\n",
       " ('recursively', 2),\n",
       " ('set', 2),\n",
       " ('into', 2),\n",
       " ('smaller', 2),\n",
       " ('categorical', 2),\n",
       " ('can', 2),\n",
       " ('its', 2),\n",
       " ('A', 1),\n",
       " ('flowchart-like', 1),\n",
       " ('representation', 1),\n",
       " ('internal', 1),\n",
       " ('branches', 1),\n",
       " ('leaf', 1),\n",
       " ('results', 1),\n",
       " ('versatile', 1),\n",
       " ('supervised', 1),\n",
       " ('machine-learning', 1),\n",
       " ('applies', 1),\n",
       " ('ie', 1),\n",
       " ('power', 1),\n",
       " ('Decision', 1),\n",
       " ('valued', 1),\n",
       " ('their', 1),\n",
       " ('interpretability', 1),\n",
       " ('as', 1),\n",
       " ('they', 1),\n",
       " ('easy', 1),\n",
       " ('understand', 1),\n",
       " ('What', 1),\n",
       " ('?', 1),\n",
       " ('or', 1),\n",
       " ('machine', 1),\n",
       " ('learning', 1),\n",
       " ('building', 1),\n",
       " ('from', 1),\n",
       " ('given', 1),\n",
       " ('was', 1),\n",
       " ('developed', 1),\n",
       " ('1986', 1),\n",
       " ('Ross', 1),\n",
       " ('Quinlan', 1),\n",
       " ('greedy', 1),\n",
       " ('builds', 1),\n",
       " ('partitioning', 1),\n",
       " ('subsets', 1),\n",
       " ('until', 1),\n",
       " ('all', 1),\n",
       " ('points', 1),\n",
       " ('each', 1),\n",
       " ('subset', 1),\n",
       " ('belong', 1),\n",
       " ('same', 1),\n",
       " ('class', 1),\n",
       " ('employs', 1),\n",
       " ('top-down', 1),\n",
       " ('approach', 1),\n",
       " ('selecting', 1),\n",
       " ('split', 1),\n",
       " ('based', 1),\n",
       " ('on', 1),\n",
       " ('information', 1),\n",
       " ('gain', 1),\n",
       " ('Thе', 1),\n",
       " ('(', 1),\n",
       " ('Dichotomiser', 1),\n",
       " ('3', 1),\n",
       " (')', 1),\n",
       " ('classic', 1),\n",
       " ('tasks.ID3', 1),\n",
       " ('deals', 1),\n",
       " ('primarily', 1),\n",
       " ('properties', 1),\n",
       " ('which', 1),\n",
       " ('means', 1),\n",
       " ('it', 1),\n",
       " ('efficiently', 1),\n",
       " ('handle', 1),\n",
       " ('objects', 1),\n",
       " ('discrete', 1),\n",
       " ('values', 1),\n",
       " ('property', 1),\n",
       " ('consistent', 1),\n",
       " ('suitability', 1),\n",
       " ('where', 1),\n",
       " ('input', 1),\n",
       " ('rather', 1),\n",
       " ('than', 1),\n",
       " ('continuous.One', 1),\n",
       " ('strengths', 1),\n",
       " ('ability', 1),\n",
       " ('interpretable', 1),\n",
       " ('The', 1),\n",
       " ('resulting', 1),\n",
       " ('structure', 1),\n",
       " ('easily', 1),\n",
       " ('understood', 1),\n",
       " ('visualized', 1),\n",
       " ('providing', 1),\n",
       " ('insight', 1),\n",
       " ('decision-making', 1),\n",
       " ('process', 1),\n",
       " ('However', 1),\n",
       " ('be', 1),\n",
       " ('sensitive', 1),\n",
       " ('noisy', 1),\n",
       " ('prone', 1),\n",
       " ('overfitting', 1),\n",
       " ('capturing', 1),\n",
       " ('details', 1),\n",
       " ('training', 1),\n",
       " ('may', 1),\n",
       " ('not', 1),\n",
       " ('adequately', 1),\n",
       " ('account', 1),\n",
       " ('new', 1),\n",
       " ('unseen', 1)]"
      ]
     },
     "execution_count": 25,
     "metadata": {},
     "output_type": "execute_result"
    }
   ],
   "source": [
    "most_occur.most_common(152)"
   ]
  },
  {
   "cell_type": "code",
   "execution_count": 26,
   "id": "821845c3-b637-4778-8e35-5e05f97f058b",
   "metadata": {},
   "outputs": [
    {
     "data": {
      "text/plain": [
       "[(',', 10),\n",
       " ('.', 10),\n",
       " ('is', 8),\n",
       " ('the', 8),\n",
       " ('a', 7),\n",
       " ('and', 7),\n",
       " ('to', 7),\n",
       " ('decision', 5),\n",
       " ('algorithm', 5),\n",
       " ('for', 5),\n",
       " ('data', 5),\n",
       " ('tree', 4)]"
      ]
     },
     "execution_count": 26,
     "metadata": {},
     "output_type": "execute_result"
    }
   ],
   "source": [
    "most_occur.most_common(12)"
   ]
  },
  {
   "cell_type": "markdown",
   "id": "04ca581b-6058-46da-95ed-95be668f5fba",
   "metadata": {},
   "source": [
    "# Punctuation marks"
   ]
  },
  {
   "cell_type": "code",
   "execution_count": 28,
   "id": "47f72341-e08f-488e-9d4f-8a6113ca00e0",
   "metadata": {},
   "outputs": [],
   "source": [
    "import string"
   ]
  },
  {
   "cell_type": "code",
   "execution_count": 29,
   "id": "170a6258-a3f0-4548-92b0-8849829c8263",
   "metadata": {},
   "outputs": [
    {
     "data": {
      "text/plain": [
       "'!\"#$%&\\'()*+,-./:;<=>?@[\\\\]^_`{|}~'"
      ]
     },
     "execution_count": 29,
     "metadata": {},
     "output_type": "execute_result"
    }
   ],
   "source": [
    "string.punctuation"
   ]
  },
  {
   "cell_type": "code",
   "execution_count": 33,
   "id": "5016b57a-f72b-43e1-9777-d577993cd5c3",
   "metadata": {},
   "outputs": [],
   "source": [
    "translator = str.maketrans('','',string.punctuation)\n",
    "text = content.translate(translator)"
   ]
  },
  {
   "cell_type": "code",
   "execution_count": 35,
   "id": "1eea1d50-9b16-4761-b0d2-0182f532aeb4",
   "metadata": {},
   "outputs": [
    {
     "name": "stdout",
     "output_type": "stream",
     "text": [
      "A decision tree is a flowchartlike representation with internal nodes representing features branches representing rules and leaf nodes representing algorithm results This versatile supervised machinelearning algorithm applies to both classification and regression problems ie and power Decision trees are valued for their interpretability as the rules they generate are easy to understand\n",
      "\n",
      "What is Iterative Dichotomiser3 Algorithm\n",
      "ID3 or Iterative Dichotomiser3 Algorithm is used in machine learning for building decision trees from a given dataset It was developed in 1986 by Ross Quinlan It is a greedy algorithm that builds a decision tree by recursively partitioning the data set into smaller and smaller subsets until all data points in each subset belong to the same class It employs a topdown approach recursively selecting features to split the dataset based on information gain\n",
      "\n",
      "Thе ID3 Iterative Dichotomiser 3 algorithm is a classic decision tree algorithm used for both classification and regression tasksID3 deals primarily with categorical properties which means that it can efficiently handle objects with a discrete set of values This property is consistent with its suitability for problems where the input features are categorical rather than continuousOne of the strengths of ID3 is its ability to generate interpretable decision trees The resulting tree structure is easily understood and visualized providing insight into the decisionmaking process However ID3 can be sensitive to noisy data and prone to overfitting capturing details in the training data that may not adequately account for new unseen data\n"
     ]
    }
   ],
   "source": [
    "print(text)"
   ]
  },
  {
   "cell_type": "code",
   "execution_count": 36,
   "id": "4be12445-6b4d-4aed-976a-e8b7493481d8",
   "metadata": {},
   "outputs": [
    {
     "name": "stdout",
     "output_type": "stream",
     "text": [
      "['A', 'decision', 'tree', 'is', 'a', 'flowchartlike', 'representation', 'with', 'internal', 'nodes', 'representing', 'features', 'branches', 'representing', 'rules', 'and', 'leaf', 'nodes', 'representing', 'algorithm', 'results', 'This', 'versatile', 'supervised', 'machinelearning', 'algorithm', 'applies', 'to', 'both', 'classification', 'and', 'regression', 'problems', 'ie', 'and', 'power', 'Decision', 'trees', 'are', 'valued', 'for', 'their', 'interpretability', 'as', 'the', 'rules', 'they', 'generate', 'are', 'easy', 'to', 'understand', 'What', 'is', 'Iterative', 'Dichotomiser3', 'Algorithm', 'ID3', 'or', 'Iterative', 'Dichotomiser3', 'Algorithm', 'is', 'used', 'in', 'machine', 'learning', 'for', 'building', 'decision', 'trees', 'from', 'a', 'given', 'dataset', 'It', 'was', 'developed', 'in', '1986', 'by', 'Ross', 'Quinlan', 'It', 'is', 'a', 'greedy', 'algorithm', 'that', 'builds', 'a', 'decision', 'tree', 'by', 'recursively', 'partitioning', 'the', 'data', 'set', 'into', 'smaller', 'and', 'smaller', 'subsets', 'until', 'all', 'data', 'points', 'in', 'each', 'subset', 'belong', 'to', 'the', 'same', 'class', 'It', 'employs', 'a', 'topdown', 'approach', 'recursively', 'selecting', 'features', 'to', 'split', 'the', 'dataset', 'based', 'on', 'information', 'gain', 'Thе', 'ID3', 'Iterative', 'Dichotomiser', '3', 'algorithm', 'is', 'a', 'classic', 'decision', 'tree', 'algorithm', 'used', 'for', 'both', 'classification', 'and', 'regression', 'tasksID3', 'deals', 'primarily', 'with', 'categorical', 'properties', 'which', 'means', 'that', 'it', 'can', 'efficiently', 'handle', 'objects', 'with', 'a', 'discrete', 'set', 'of', 'values', 'This', 'property', 'is', 'consistent', 'with', 'its', 'suitability', 'for', 'problems', 'where', 'the', 'input', 'features', 'are', 'categorical', 'rather', 'than', 'continuousOne', 'of', 'the', 'strengths', 'of', 'ID3', 'is', 'its', 'ability', 'to', 'generate', 'interpretable', 'decision', 'trees', 'The', 'resulting', 'tree', 'structure', 'is', 'easily', 'understood', 'and', 'visualized', 'providing', 'insight', 'into', 'the', 'decisionmaking', 'process', 'However', 'ID3', 'can', 'be', 'sensitive', 'to', 'noisy', 'data', 'and', 'prone', 'to', 'overfitting', 'capturing', 'details', 'in', 'the', 'training', 'data', 'that', 'may', 'not', 'adequately', 'account', 'for', 'new', 'unseen', 'data']\n"
     ]
    }
   ],
   "source": [
    "tokens = word_tokenize(text)\n",
    "print(tokens)"
   ]
  },
  {
   "cell_type": "code",
   "execution_count": 37,
   "id": "a916f34a-0d70-40d3-9455-c2c2589d1675",
   "metadata": {},
   "outputs": [
    {
     "name": "stdout",
     "output_type": "stream",
     "text": [
      "<FreqDist with 147 samples and 243 outcomes>\n"
     ]
    }
   ],
   "source": [
    "most_occur = FreqDist(tokens)\n",
    "print(most_occur)"
   ]
  },
  {
   "cell_type": "code",
   "execution_count": 38,
   "id": "52e8be15-0148-47de-af31-d7339be8be55",
   "metadata": {},
   "outputs": [
    {
     "data": {
      "text/plain": [
       "[('is', 8),\n",
       " ('the', 8),\n",
       " ('a', 7),\n",
       " ('and', 7),\n",
       " ('to', 7),\n",
       " ('decision', 5),\n",
       " ('algorithm', 5),\n",
       " ('for', 5),\n",
       " ('data', 5),\n",
       " ('tree', 4)]"
      ]
     },
     "execution_count": 38,
     "metadata": {},
     "output_type": "execute_result"
    }
   ],
   "source": [
    "most_occur.most_common(10)"
   ]
  },
  {
   "cell_type": "markdown",
   "id": "062cc020-08cb-4232-88e1-edbbd76fd80e",
   "metadata": {},
   "source": [
    "# stop words removal"
   ]
  },
  {
   "cell_type": "code",
   "execution_count": 39,
   "id": "4f8e9793-5138-40e0-b1dd-a0a07c276524",
   "metadata": {},
   "outputs": [],
   "source": [
    "from nltk.corpus import stopwords"
   ]
  },
  {
   "cell_type": "code",
   "execution_count": 41,
   "id": "9dc58d29-9c05-4288-8811-b2f5a069146c",
   "metadata": {},
   "outputs": [
    {
     "name": "stdout",
     "output_type": "stream",
     "text": [
      "{'itself', \"mustn't\", 'them', 'wasn', 'mightn', 'those', 'such', 'other', 'this', 'your', 'his', 'but', 'd', 'ourselves', 'yourselves', \"she'll\", 'not', 'himself', 'if', \"i'm\", 'whom', 'that', 'doesn', 'couldn', 'at', 'me', 'needn', 'until', 'should', 'hers', 'was', 'been', 'my', 'be', 'in', 'being', 'ma', 'each', 'all', 'now', 'and', 'no', 'o', 'our', 'above', 'about', 'yourself', \"you've\", 'on', 'some', \"i'll\", 'theirs', 'very', 'can', 'few', 'more', 'she', 'then', 'yours', 'to', \"hadn't\", 'of', 'out', 'you', \"it'd\", 'hasn', 're', 'their', \"you're\", 'only', \"he'd\", 'weren', \"i'd\", 'do', 'ours', \"she'd\", \"shan't\", 'will', 'with', \"doesn't\", 'an', 'the', \"we'll\", 'wouldn', \"he'll\", 'won', \"she's\", 'into', 'there', 'during', 'once', \"they've\", \"they're\", 'where', 'same', 'below', 'through', \"you'd\", 'nor', 'myself', \"that'll\", 'him', \"we'd\", 'her', \"i've\", 'both', \"aren't\", 'does', 'just', \"they'll\", 't', 'aren', 'we', 'before', 'for', 'm', 'own', 'when', \"he's\", \"wouldn't\", 'had', \"weren't\", \"don't\", 'against', \"we're\", 'its', 'didn', 'haven', 'how', \"didn't\", \"it'll\", 'so', 'ain', \"shouldn't\", 'again', 'which', \"you'll\", 'up', 'after', 'a', 'is', \"should've\", 'it', 'themselves', 'further', 'shan', 'these', 've', 'mustn', 'did', 'am', 'over', 'because', \"couldn't\", 'as', \"won't\", 'any', \"wasn't\", 'don', \"hasn't\", 'they', 'while', 'between', 'he', 'why', 'i', 'were', 'or', 'doing', 'have', \"it's\", 'are', 'by', 'll', 'too', \"isn't\", \"we've\", 'most', 'under', \"mightn't\", 'shouldn', 'has', \"haven't\", 'hadn', 'from', \"needn't\", 'here', 'isn', 'herself', 'having', 'off', 'who', \"they'd\", 'y', 'than', 'what', 's', 'down'}\n"
     ]
    }
   ],
   "source": [
    "stopwords_eng = set(stopwords.words('english'))\n",
    "print(stopwords_eng)"
   ]
  },
  {
   "cell_type": "code",
   "execution_count": 42,
   "id": "65f26fcf-a460-4b20-a94a-9516c55655e3",
   "metadata": {},
   "outputs": [],
   "source": [
    "tokens = word_tokenize(text)\n"
   ]
  },
  {
   "cell_type": "code",
   "execution_count": 43,
   "id": "3a08c429-4343-4dea-89bf-3d701b86b023",
   "metadata": {},
   "outputs": [],
   "source": [
    "nostop_tokens = []\n",
    "for w in tokens:\n",
    "    if w not in stopwords_eng:\n",
    "        nostop_tokens.append(w)"
   ]
  },
  {
   "cell_type": "code",
   "execution_count": 44,
   "id": "a1008b37-1b9d-4c43-8ee6-730a668d8ec0",
   "metadata": {},
   "outputs": [
    {
     "name": "stdout",
     "output_type": "stream",
     "text": [
      "['A', 'decision', 'tree', 'flowchartlike', 'representation', 'internal', 'nodes', 'representing', 'features', 'branches', 'representing', 'rules', 'leaf', 'nodes', 'representing', 'algorithm', 'results', 'This', 'versatile', 'supervised', 'machinelearning', 'algorithm', 'applies', 'classification', 'regression', 'problems', 'ie', 'power', 'Decision', 'trees', 'valued', 'interpretability', 'rules', 'generate', 'easy', 'understand', 'What', 'Iterative', 'Dichotomiser3', 'Algorithm', 'ID3', 'Iterative', 'Dichotomiser3', 'Algorithm', 'used', 'machine', 'learning', 'building', 'decision', 'trees', 'given', 'dataset', 'It', 'developed', '1986', 'Ross', 'Quinlan', 'It', 'greedy', 'algorithm', 'builds', 'decision', 'tree', 'recursively', 'partitioning', 'data', 'set', 'smaller', 'smaller', 'subsets', 'data', 'points', 'subset', 'belong', 'class', 'It', 'employs', 'topdown', 'approach', 'recursively', 'selecting', 'features', 'split', 'dataset', 'based', 'information', 'gain', 'Thе', 'ID3', 'Iterative', 'Dichotomiser', '3', 'algorithm', 'classic', 'decision', 'tree', 'algorithm', 'used', 'classification', 'regression', 'tasksID3', 'deals', 'primarily', 'categorical', 'properties', 'means', 'efficiently', 'handle', 'objects', 'discrete', 'set', 'values', 'This', 'property', 'consistent', 'suitability', 'problems', 'input', 'features', 'categorical', 'rather', 'continuousOne', 'strengths', 'ID3', 'ability', 'generate', 'interpretable', 'decision', 'trees', 'The', 'resulting', 'tree', 'structure', 'easily', 'understood', 'visualized', 'providing', 'insight', 'decisionmaking', 'process', 'However', 'ID3', 'sensitive', 'noisy', 'data', 'prone', 'overfitting', 'capturing', 'details', 'training', 'data', 'may', 'adequately', 'account', 'new', 'unseen', 'data']\n"
     ]
    }
   ],
   "source": [
    "print(nostop_tokens)"
   ]
  },
  {
   "cell_type": "code",
   "execution_count": 45,
   "id": "a0bfab3d-e8a8-461e-afe9-c0f61a713d13",
   "metadata": {},
   "outputs": [],
   "source": [
    "final_text = ' '.join(nostop_tokens)"
   ]
  },
  {
   "cell_type": "code",
   "execution_count": 46,
   "id": "57625b55-aafc-4fae-874a-817e1d81cd4d",
   "metadata": {},
   "outputs": [
    {
     "name": "stdout",
     "output_type": "stream",
     "text": [
      "A decision tree flowchartlike representation internal nodes representing features branches representing rules leaf nodes representing algorithm results This versatile supervised machinelearning algorithm applies classification regression problems ie power Decision trees valued interpretability rules generate easy understand What Iterative Dichotomiser3 Algorithm ID3 Iterative Dichotomiser3 Algorithm used machine learning building decision trees given dataset It developed 1986 Ross Quinlan It greedy algorithm builds decision tree recursively partitioning data set smaller smaller subsets data points subset belong class It employs topdown approach recursively selecting features split dataset based information gain Thе ID3 Iterative Dichotomiser 3 algorithm classic decision tree algorithm used classification regression tasksID3 deals primarily categorical properties means efficiently handle objects discrete set values This property consistent suitability problems input features categorical rather continuousOne strengths ID3 ability generate interpretable decision trees The resulting tree structure easily understood visualized providing insight decisionmaking process However ID3 sensitive noisy data prone overfitting capturing details training data may adequately account new unseen data\n"
     ]
    }
   ],
   "source": [
    "print(final_text)"
   ]
  },
  {
   "cell_type": "code",
   "execution_count": 47,
   "id": "efdb5c6a-ef59-442f-bc1b-5f3df832b525",
   "metadata": {},
   "outputs": [],
   "source": [
    "# nostop_tokens / final_tokens\n",
    "# list comprehension\n",
    "final_tokens = [word for word in tokens if word not in stopwords_eng]"
   ]
  },
  {
   "cell_type": "code",
   "execution_count": 48,
   "id": "8ea3dae4-2d35-44f3-9fc5-124bc090fb39",
   "metadata": {},
   "outputs": [
    {
     "data": {
      "text/plain": [
       "['A',\n",
       " 'decision',\n",
       " 'tree',\n",
       " 'flowchartlike',\n",
       " 'representation',\n",
       " 'internal',\n",
       " 'nodes',\n",
       " 'representing',\n",
       " 'features',\n",
       " 'branches',\n",
       " 'representing',\n",
       " 'rules',\n",
       " 'leaf',\n",
       " 'nodes',\n",
       " 'representing',\n",
       " 'algorithm',\n",
       " 'results',\n",
       " 'This',\n",
       " 'versatile',\n",
       " 'supervised',\n",
       " 'machinelearning',\n",
       " 'algorithm',\n",
       " 'applies',\n",
       " 'classification',\n",
       " 'regression',\n",
       " 'problems',\n",
       " 'ie',\n",
       " 'power',\n",
       " 'Decision',\n",
       " 'trees',\n",
       " 'valued',\n",
       " 'interpretability',\n",
       " 'rules',\n",
       " 'generate',\n",
       " 'easy',\n",
       " 'understand',\n",
       " 'What',\n",
       " 'Iterative',\n",
       " 'Dichotomiser3',\n",
       " 'Algorithm',\n",
       " 'ID3',\n",
       " 'Iterative',\n",
       " 'Dichotomiser3',\n",
       " 'Algorithm',\n",
       " 'used',\n",
       " 'machine',\n",
       " 'learning',\n",
       " 'building',\n",
       " 'decision',\n",
       " 'trees',\n",
       " 'given',\n",
       " 'dataset',\n",
       " 'It',\n",
       " 'developed',\n",
       " '1986',\n",
       " 'Ross',\n",
       " 'Quinlan',\n",
       " 'It',\n",
       " 'greedy',\n",
       " 'algorithm',\n",
       " 'builds',\n",
       " 'decision',\n",
       " 'tree',\n",
       " 'recursively',\n",
       " 'partitioning',\n",
       " 'data',\n",
       " 'set',\n",
       " 'smaller',\n",
       " 'smaller',\n",
       " 'subsets',\n",
       " 'data',\n",
       " 'points',\n",
       " 'subset',\n",
       " 'belong',\n",
       " 'class',\n",
       " 'It',\n",
       " 'employs',\n",
       " 'topdown',\n",
       " 'approach',\n",
       " 'recursively',\n",
       " 'selecting',\n",
       " 'features',\n",
       " 'split',\n",
       " 'dataset',\n",
       " 'based',\n",
       " 'information',\n",
       " 'gain',\n",
       " 'Thе',\n",
       " 'ID3',\n",
       " 'Iterative',\n",
       " 'Dichotomiser',\n",
       " '3',\n",
       " 'algorithm',\n",
       " 'classic',\n",
       " 'decision',\n",
       " 'tree',\n",
       " 'algorithm',\n",
       " 'used',\n",
       " 'classification',\n",
       " 'regression',\n",
       " 'tasksID3',\n",
       " 'deals',\n",
       " 'primarily',\n",
       " 'categorical',\n",
       " 'properties',\n",
       " 'means',\n",
       " 'efficiently',\n",
       " 'handle',\n",
       " 'objects',\n",
       " 'discrete',\n",
       " 'set',\n",
       " 'values',\n",
       " 'This',\n",
       " 'property',\n",
       " 'consistent',\n",
       " 'suitability',\n",
       " 'problems',\n",
       " 'input',\n",
       " 'features',\n",
       " 'categorical',\n",
       " 'rather',\n",
       " 'continuousOne',\n",
       " 'strengths',\n",
       " 'ID3',\n",
       " 'ability',\n",
       " 'generate',\n",
       " 'interpretable',\n",
       " 'decision',\n",
       " 'trees',\n",
       " 'The',\n",
       " 'resulting',\n",
       " 'tree',\n",
       " 'structure',\n",
       " 'easily',\n",
       " 'understood',\n",
       " 'visualized',\n",
       " 'providing',\n",
       " 'insight',\n",
       " 'decisionmaking',\n",
       " 'process',\n",
       " 'However',\n",
       " 'ID3',\n",
       " 'sensitive',\n",
       " 'noisy',\n",
       " 'data',\n",
       " 'prone',\n",
       " 'overfitting',\n",
       " 'capturing',\n",
       " 'details',\n",
       " 'training',\n",
       " 'data',\n",
       " 'may',\n",
       " 'adequately',\n",
       " 'account',\n",
       " 'new',\n",
       " 'unseen',\n",
       " 'data']"
      ]
     },
     "execution_count": 48,
     "metadata": {},
     "output_type": "execute_result"
    }
   ],
   "source": [
    "final_tokens"
   ]
  },
  {
   "cell_type": "code",
   "execution_count": 49,
   "id": "95991c0c-d0d9-450a-8d23-02974d1013da",
   "metadata": {},
   "outputs": [
    {
     "data": {
      "text/plain": [
       "'A decision tree flowchartlike representation internal nodes representing features branches representing rules leaf nodes representing algorithm results This versatile supervised machinelearning algorithm applies classification regression problems ie power Decision trees valued interpretability rules generate easy understand What Iterative Dichotomiser3 Algorithm ID3 Iterative Dichotomiser3 Algorithm used machine learning building decision trees given dataset It developed 1986 Ross Quinlan It greedy algorithm builds decision tree recursively partitioning data set smaller smaller subsets data points subset belong class It employs topdown approach recursively selecting features split dataset based information gain Thе ID3 Iterative Dichotomiser 3 algorithm classic decision tree algorithm used classification regression tasksID3 deals primarily categorical properties means efficiently handle objects discrete set values This property consistent suitability problems input features categorical rather continuousOne strengths ID3 ability generate interpretable decision trees The resulting tree structure easily understood visualized providing insight decisionmaking process However ID3 sensitive noisy data prone overfitting capturing details training data may adequately account new unseen data'"
      ]
     },
     "execution_count": 49,
     "metadata": {},
     "output_type": "execute_result"
    }
   ],
   "source": [
    "final_text"
   ]
  },
  {
   "cell_type": "code",
   "execution_count": null,
   "id": "60dcbb30-3622-4649-908a-ddf562c6f509",
   "metadata": {},
   "outputs": [],
   "source": []
  }
 ],
 "metadata": {
  "kernelspec": {
   "display_name": "Python 3 (ipykernel)",
   "language": "python",
   "name": "python3"
  },
  "language_info": {
   "codemirror_mode": {
    "name": "ipython",
    "version": 3
   },
   "file_extension": ".py",
   "mimetype": "text/x-python",
   "name": "python",
   "nbconvert_exporter": "python",
   "pygments_lexer": "ipython3",
   "version": "3.13.5"
  }
 },
 "nbformat": 4,
 "nbformat_minor": 5
}
