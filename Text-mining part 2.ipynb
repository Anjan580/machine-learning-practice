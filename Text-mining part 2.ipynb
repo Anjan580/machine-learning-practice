{
 "cells": [
  {
   "cell_type": "markdown",
   "id": "eb6e32c8-581d-4c09-8135-e2b8b24975e1",
   "metadata": {},
   "source": [
    "# Text - mining"
   ]
  },
  {
   "cell_type": "markdown",
   "id": "c0e228bd-6709-4266-adad-5df83173fdec",
   "metadata": {},
   "source": [
    "1. Tokenization\n",
    "2. punctuation removal\n",
    "3. stop words\n",
    "\n",
    "\n",
    "4. "
   ]
  },
  {
   "cell_type": "code",
   "execution_count": 2,
   "id": "9faff16c-88f4-47fd-9442-95e941449b68",
   "metadata": {},
   "outputs": [],
   "source": [
    "# opening a file\n",
    "with open('text_doc.txt', 'r', encoding = 'utf-8') as file:\n",
    "    content = file.read()"
   ]
  },
  {
   "cell_type": "code",
   "execution_count": 3,
   "id": "32252371-48b6-4d97-86cc-9bc18109047b",
   "metadata": {},
   "outputs": [
    {
     "data": {
      "text/plain": [
       "'A decision tree is a flowchart-like representation, with internal nodes representing features, branches representing rules, and leaf nodes representing algorithm results This versatile supervised machine-learning algorithm applies to both classification and regression problems, ie and power. Decision trees are valued for their interpretability, as the rules they generate are easy to understand.\\n\\nWhat is Iterative Dichotomiser3 Algorithm?\\nID3 or Iterative Dichotomiser3 Algorithm is used in machine learning for building decision trees from a given dataset. It was developed in 1986 by Ross Quinlan. It is a greedy algorithm that builds a decision tree by recursively partitioning the data set into smaller and smaller subsets until all data points in each subset belong to the same class. It employs a top-down approach, recursively selecting features to split the dataset based on information gain.\\n\\nThе ID3 (Iterative Dichotomiser 3) algorithm is a classic decision tree algorithm used for both classification and regression tasks.ID3 deals primarily with categorical properties, which means that it can efficiently handle objects with a discrete set of values. This property is consistent with its suitability for problems where the input features are categorical rather than continuous.One of the strengths of ID3 is its ability to generate interpretable decision trees. The resulting tree structure is easily understood and visualized, providing insight into the decision-making process. However, ID3 can be sensitive to noisy data and prone to overfitting, capturing details in the training data that may not adequately account for new unseen data.'"
      ]
     },
     "execution_count": 3,
     "metadata": {},
     "output_type": "execute_result"
    }
   ],
   "source": [
    "content"
   ]
  },
  {
   "cell_type": "code",
   "execution_count": 24,
   "id": "761409b4-9074-4c91-9e8c-144f8775bf10",
   "metadata": {},
   "outputs": [],
   "source": [
    "from nltk.corpus import stopwords\n",
    "from nltk import word_tokenize\n",
    "from nltk.probability import FreqDist"
   ]
  },
  {
   "cell_type": "code",
   "execution_count": 6,
   "id": "a5d25208-66f6-4d7a-9a8c-41db94948bdf",
   "metadata": {},
   "outputs": [
    {
     "name": "stdout",
     "output_type": "stream",
     "text": [
      "{'from', 's', 'more', 'both', 've', 'mustn', 'the', 'will', 'here', 'shan', 'is', 'once', 'as', 'after', 'at', 'any', 'did', \"you're\", \"doesn't\", 'there', 'same', 'our', \"it's\", 'while', \"wouldn't\", 'of', 'through', 'further', 'm', 'themselves', 'yours', \"he'll\", 'it', 'out', 'whom', 'himself', 'than', 'have', 'its', 'mightn', \"shouldn't\", \"we're\", 'because', 'an', 'how', 'below', \"didn't\", 'over', 'do', 'who', \"won't\", \"mightn't\", 'by', 'are', 'has', 'nor', 'does', 'what', 'aren', \"she's\", 'theirs', 'few', 'ours', 'wasn', 'this', 'so', 'shouldn', \"aren't\", \"it'd\", 'most', 't', 'under', 'o', 'll', 'my', 'just', 'they', \"i'll\", 'above', \"shan't\", \"she'd\", 'very', 'about', 'ourselves', 'your', 'now', 'couldn', \"needn't\", 'don', \"they'll\", 'ma', 'yourselves', 'those', 'can', 'wouldn', \"haven't\", 'when', \"they're\", 'won', 'where', \"they'd\", \"it'll\", 'am', 'having', 'needn', 'was', 'doesn', \"should've\", \"couldn't\", 'herself', \"i'd\", 'had', \"you'd\", 'off', 'their', 're', 'she', 'other', \"she'll\", 'he', 'we', \"don't\", \"hadn't\", 'in', 'her', 'all', 'him', 'on', \"you'll\", 'doing', 'and', \"they've\", 'then', 'myself', 'weren', 'again', 'no', 'but', \"wasn't\", 'such', 'or', 'isn', 'be', 'itself', 'some', 'me', 'you', 'being', 'during', 'should', 'up', 'each', \"isn't\", 'were', \"weren't\", \"you've\", 'these', 'y', 'against', 'haven', 'own', 'to', 'only', 'why', \"that'll\", 'yourself', \"mustn't\", \"he's\", \"we'd\", 'didn', 'which', 'down', 'hadn', 'if', 'been', \"we'll\", \"hasn't\", 'into', 'i', 'too', 'd', 'hasn', 'them', 'a', 'with', 'his', 'until', 'hers', 'not', \"i'm\", 'before', 'for', \"he'd\", 'ain', \"i've\", \"we've\", 'between', 'that'}\n"
     ]
    }
   ],
   "source": [
    "stopwords_eng = set(stopwords.words('english'))\n",
    "print(stopwords_eng)"
   ]
  },
  {
   "cell_type": "code",
   "execution_count": 11,
   "id": "1358108a-5966-43b7-bf21-b0e9f6e4db08",
   "metadata": {},
   "outputs": [],
   "source": [
    "tokens = word_tokenize(content)"
   ]
  },
  {
   "cell_type": "code",
   "execution_count": 12,
   "id": "2225d0dc-a361-42d7-8fe5-679fcc9162b0",
   "metadata": {
    "collapsed": true,
    "jupyter": {
     "outputs_hidden": true
    },
    "scrolled": true
   },
   "outputs": [
    {
     "data": {
      "text/plain": [
       "['A',\n",
       " 'decision',\n",
       " 'tree',\n",
       " 'is',\n",
       " 'a',\n",
       " 'flowchart-like',\n",
       " 'representation',\n",
       " ',',\n",
       " 'with',\n",
       " 'internal',\n",
       " 'nodes',\n",
       " 'representing',\n",
       " 'features',\n",
       " ',',\n",
       " 'branches',\n",
       " 'representing',\n",
       " 'rules',\n",
       " ',',\n",
       " 'and',\n",
       " 'leaf',\n",
       " 'nodes',\n",
       " 'representing',\n",
       " 'algorithm',\n",
       " 'results',\n",
       " 'This',\n",
       " 'versatile',\n",
       " 'supervised',\n",
       " 'machine-learning',\n",
       " 'algorithm',\n",
       " 'applies',\n",
       " 'to',\n",
       " 'both',\n",
       " 'classification',\n",
       " 'and',\n",
       " 'regression',\n",
       " 'problems',\n",
       " ',',\n",
       " 'ie',\n",
       " 'and',\n",
       " 'power',\n",
       " '.',\n",
       " 'Decision',\n",
       " 'trees',\n",
       " 'are',\n",
       " 'valued',\n",
       " 'for',\n",
       " 'their',\n",
       " 'interpretability',\n",
       " ',',\n",
       " 'as',\n",
       " 'the',\n",
       " 'rules',\n",
       " 'they',\n",
       " 'generate',\n",
       " 'are',\n",
       " 'easy',\n",
       " 'to',\n",
       " 'understand',\n",
       " '.',\n",
       " 'What',\n",
       " 'is',\n",
       " 'Iterative',\n",
       " 'Dichotomiser3',\n",
       " 'Algorithm',\n",
       " '?',\n",
       " 'ID3',\n",
       " 'or',\n",
       " 'Iterative',\n",
       " 'Dichotomiser3',\n",
       " 'Algorithm',\n",
       " 'is',\n",
       " 'used',\n",
       " 'in',\n",
       " 'machine',\n",
       " 'learning',\n",
       " 'for',\n",
       " 'building',\n",
       " 'decision',\n",
       " 'trees',\n",
       " 'from',\n",
       " 'a',\n",
       " 'given',\n",
       " 'dataset',\n",
       " '.',\n",
       " 'It',\n",
       " 'was',\n",
       " 'developed',\n",
       " 'in',\n",
       " '1986',\n",
       " 'by',\n",
       " 'Ross',\n",
       " 'Quinlan',\n",
       " '.',\n",
       " 'It',\n",
       " 'is',\n",
       " 'a',\n",
       " 'greedy',\n",
       " 'algorithm',\n",
       " 'that',\n",
       " 'builds',\n",
       " 'a',\n",
       " 'decision',\n",
       " 'tree',\n",
       " 'by',\n",
       " 'recursively',\n",
       " 'partitioning',\n",
       " 'the',\n",
       " 'data',\n",
       " 'set',\n",
       " 'into',\n",
       " 'smaller',\n",
       " 'and',\n",
       " 'smaller',\n",
       " 'subsets',\n",
       " 'until',\n",
       " 'all',\n",
       " 'data',\n",
       " 'points',\n",
       " 'in',\n",
       " 'each',\n",
       " 'subset',\n",
       " 'belong',\n",
       " 'to',\n",
       " 'the',\n",
       " 'same',\n",
       " 'class',\n",
       " '.',\n",
       " 'It',\n",
       " 'employs',\n",
       " 'a',\n",
       " 'top-down',\n",
       " 'approach',\n",
       " ',',\n",
       " 'recursively',\n",
       " 'selecting',\n",
       " 'features',\n",
       " 'to',\n",
       " 'split',\n",
       " 'the',\n",
       " 'dataset',\n",
       " 'based',\n",
       " 'on',\n",
       " 'information',\n",
       " 'gain',\n",
       " '.',\n",
       " 'Thе',\n",
       " 'ID3',\n",
       " '(',\n",
       " 'Iterative',\n",
       " 'Dichotomiser',\n",
       " '3',\n",
       " ')',\n",
       " 'algorithm',\n",
       " 'is',\n",
       " 'a',\n",
       " 'classic',\n",
       " 'decision',\n",
       " 'tree',\n",
       " 'algorithm',\n",
       " 'used',\n",
       " 'for',\n",
       " 'both',\n",
       " 'classification',\n",
       " 'and',\n",
       " 'regression',\n",
       " 'tasks.ID3',\n",
       " 'deals',\n",
       " 'primarily',\n",
       " 'with',\n",
       " 'categorical',\n",
       " 'properties',\n",
       " ',',\n",
       " 'which',\n",
       " 'means',\n",
       " 'that',\n",
       " 'it',\n",
       " 'can',\n",
       " 'efficiently',\n",
       " 'handle',\n",
       " 'objects',\n",
       " 'with',\n",
       " 'a',\n",
       " 'discrete',\n",
       " 'set',\n",
       " 'of',\n",
       " 'values',\n",
       " '.',\n",
       " 'This',\n",
       " 'property',\n",
       " 'is',\n",
       " 'consistent',\n",
       " 'with',\n",
       " 'its',\n",
       " 'suitability',\n",
       " 'for',\n",
       " 'problems',\n",
       " 'where',\n",
       " 'the',\n",
       " 'input',\n",
       " 'features',\n",
       " 'are',\n",
       " 'categorical',\n",
       " 'rather',\n",
       " 'than',\n",
       " 'continuous.One',\n",
       " 'of',\n",
       " 'the',\n",
       " 'strengths',\n",
       " 'of',\n",
       " 'ID3',\n",
       " 'is',\n",
       " 'its',\n",
       " 'ability',\n",
       " 'to',\n",
       " 'generate',\n",
       " 'interpretable',\n",
       " 'decision',\n",
       " 'trees',\n",
       " '.',\n",
       " 'The',\n",
       " 'resulting',\n",
       " 'tree',\n",
       " 'structure',\n",
       " 'is',\n",
       " 'easily',\n",
       " 'understood',\n",
       " 'and',\n",
       " 'visualized',\n",
       " ',',\n",
       " 'providing',\n",
       " 'insight',\n",
       " 'into',\n",
       " 'the',\n",
       " 'decision-making',\n",
       " 'process',\n",
       " '.',\n",
       " 'However',\n",
       " ',',\n",
       " 'ID3',\n",
       " 'can',\n",
       " 'be',\n",
       " 'sensitive',\n",
       " 'to',\n",
       " 'noisy',\n",
       " 'data',\n",
       " 'and',\n",
       " 'prone',\n",
       " 'to',\n",
       " 'overfitting',\n",
       " ',',\n",
       " 'capturing',\n",
       " 'details',\n",
       " 'in',\n",
       " 'the',\n",
       " 'training',\n",
       " 'data',\n",
       " 'that',\n",
       " 'may',\n",
       " 'not',\n",
       " 'adequately',\n",
       " 'account',\n",
       " 'for',\n",
       " 'new',\n",
       " 'unseen',\n",
       " 'data',\n",
       " '.']"
      ]
     },
     "execution_count": 12,
     "metadata": {},
     "output_type": "execute_result"
    }
   ],
   "source": [
    "tokens"
   ]
  },
  {
   "cell_type": "code",
   "execution_count": 13,
   "id": "0821b30e-9cfc-4f84-b27e-ef39f56955ee",
   "metadata": {},
   "outputs": [],
   "source": [
    "nostop_tokens = []\n",
    "for w in tokens:\n",
    "    if w not in stopwords_eng:\n",
    "        nostop_tokens.append(w)"
   ]
  },
  {
   "cell_type": "code",
   "execution_count": 14,
   "id": "734b17fb-0176-4a86-95a6-32e6682618d0",
   "metadata": {
    "collapsed": true,
    "jupyter": {
     "outputs_hidden": true
    }
   },
   "outputs": [
    {
     "data": {
      "text/plain": [
       "['A',\n",
       " 'decision',\n",
       " 'tree',\n",
       " 'flowchart-like',\n",
       " 'representation',\n",
       " ',',\n",
       " 'internal',\n",
       " 'nodes',\n",
       " 'representing',\n",
       " 'features',\n",
       " ',',\n",
       " 'branches',\n",
       " 'representing',\n",
       " 'rules',\n",
       " ',',\n",
       " 'leaf',\n",
       " 'nodes',\n",
       " 'representing',\n",
       " 'algorithm',\n",
       " 'results',\n",
       " 'This',\n",
       " 'versatile',\n",
       " 'supervised',\n",
       " 'machine-learning',\n",
       " 'algorithm',\n",
       " 'applies',\n",
       " 'classification',\n",
       " 'regression',\n",
       " 'problems',\n",
       " ',',\n",
       " 'ie',\n",
       " 'power',\n",
       " '.',\n",
       " 'Decision',\n",
       " 'trees',\n",
       " 'valued',\n",
       " 'interpretability',\n",
       " ',',\n",
       " 'rules',\n",
       " 'generate',\n",
       " 'easy',\n",
       " 'understand',\n",
       " '.',\n",
       " 'What',\n",
       " 'Iterative',\n",
       " 'Dichotomiser3',\n",
       " 'Algorithm',\n",
       " '?',\n",
       " 'ID3',\n",
       " 'Iterative',\n",
       " 'Dichotomiser3',\n",
       " 'Algorithm',\n",
       " 'used',\n",
       " 'machine',\n",
       " 'learning',\n",
       " 'building',\n",
       " 'decision',\n",
       " 'trees',\n",
       " 'given',\n",
       " 'dataset',\n",
       " '.',\n",
       " 'It',\n",
       " 'developed',\n",
       " '1986',\n",
       " 'Ross',\n",
       " 'Quinlan',\n",
       " '.',\n",
       " 'It',\n",
       " 'greedy',\n",
       " 'algorithm',\n",
       " 'builds',\n",
       " 'decision',\n",
       " 'tree',\n",
       " 'recursively',\n",
       " 'partitioning',\n",
       " 'data',\n",
       " 'set',\n",
       " 'smaller',\n",
       " 'smaller',\n",
       " 'subsets',\n",
       " 'data',\n",
       " 'points',\n",
       " 'subset',\n",
       " 'belong',\n",
       " 'class',\n",
       " '.',\n",
       " 'It',\n",
       " 'employs',\n",
       " 'top-down',\n",
       " 'approach',\n",
       " ',',\n",
       " 'recursively',\n",
       " 'selecting',\n",
       " 'features',\n",
       " 'split',\n",
       " 'dataset',\n",
       " 'based',\n",
       " 'information',\n",
       " 'gain',\n",
       " '.',\n",
       " 'Thе',\n",
       " 'ID3',\n",
       " '(',\n",
       " 'Iterative',\n",
       " 'Dichotomiser',\n",
       " '3',\n",
       " ')',\n",
       " 'algorithm',\n",
       " 'classic',\n",
       " 'decision',\n",
       " 'tree',\n",
       " 'algorithm',\n",
       " 'used',\n",
       " 'classification',\n",
       " 'regression',\n",
       " 'tasks.ID3',\n",
       " 'deals',\n",
       " 'primarily',\n",
       " 'categorical',\n",
       " 'properties',\n",
       " ',',\n",
       " 'means',\n",
       " 'efficiently',\n",
       " 'handle',\n",
       " 'objects',\n",
       " 'discrete',\n",
       " 'set',\n",
       " 'values',\n",
       " '.',\n",
       " 'This',\n",
       " 'property',\n",
       " 'consistent',\n",
       " 'suitability',\n",
       " 'problems',\n",
       " 'input',\n",
       " 'features',\n",
       " 'categorical',\n",
       " 'rather',\n",
       " 'continuous.One',\n",
       " 'strengths',\n",
       " 'ID3',\n",
       " 'ability',\n",
       " 'generate',\n",
       " 'interpretable',\n",
       " 'decision',\n",
       " 'trees',\n",
       " '.',\n",
       " 'The',\n",
       " 'resulting',\n",
       " 'tree',\n",
       " 'structure',\n",
       " 'easily',\n",
       " 'understood',\n",
       " 'visualized',\n",
       " ',',\n",
       " 'providing',\n",
       " 'insight',\n",
       " 'decision-making',\n",
       " 'process',\n",
       " '.',\n",
       " 'However',\n",
       " ',',\n",
       " 'ID3',\n",
       " 'sensitive',\n",
       " 'noisy',\n",
       " 'data',\n",
       " 'prone',\n",
       " 'overfitting',\n",
       " ',',\n",
       " 'capturing',\n",
       " 'details',\n",
       " 'training',\n",
       " 'data',\n",
       " 'may',\n",
       " 'adequately',\n",
       " 'account',\n",
       " 'new',\n",
       " 'unseen',\n",
       " 'data',\n",
       " '.']"
      ]
     },
     "execution_count": 14,
     "metadata": {},
     "output_type": "execute_result"
    }
   ],
   "source": [
    "nostop_tokens"
   ]
  },
  {
   "cell_type": "code",
   "execution_count": 15,
   "id": "345faef5-f07d-4440-9baf-52d879c202b2",
   "metadata": {},
   "outputs": [],
   "source": [
    "final_text = ' '.join(nostop_tokens)"
   ]
  },
  {
   "cell_type": "code",
   "execution_count": 16,
   "id": "fd0d7373-8744-45eb-85f9-cf0a984e641c",
   "metadata": {},
   "outputs": [
    {
     "data": {
      "text/plain": [
       "'A decision tree flowchart-like representation , internal nodes representing features , branches representing rules , leaf nodes representing algorithm results This versatile supervised machine-learning algorithm applies classification regression problems , ie power . Decision trees valued interpretability , rules generate easy understand . What Iterative Dichotomiser3 Algorithm ? ID3 Iterative Dichotomiser3 Algorithm used machine learning building decision trees given dataset . It developed 1986 Ross Quinlan . It greedy algorithm builds decision tree recursively partitioning data set smaller smaller subsets data points subset belong class . It employs top-down approach , recursively selecting features split dataset based information gain . Thе ID3 ( Iterative Dichotomiser 3 ) algorithm classic decision tree algorithm used classification regression tasks.ID3 deals primarily categorical properties , means efficiently handle objects discrete set values . This property consistent suitability problems input features categorical rather continuous.One strengths ID3 ability generate interpretable decision trees . The resulting tree structure easily understood visualized , providing insight decision-making process . However , ID3 sensitive noisy data prone overfitting , capturing details training data may adequately account new unseen data .'"
      ]
     },
     "execution_count": 16,
     "metadata": {},
     "output_type": "execute_result"
    }
   ],
   "source": [
    "final_text"
   ]
  },
  {
   "cell_type": "code",
   "execution_count": 17,
   "id": "6216223c-d90c-492b-ba90-2bc2dc976d4e",
   "metadata": {},
   "outputs": [],
   "source": [
    "import string"
   ]
  },
  {
   "cell_type": "code",
   "execution_count": 18,
   "id": "a807ff7c-d511-426a-9ee8-83d4963042ad",
   "metadata": {},
   "outputs": [
    {
     "data": {
      "text/plain": [
       "'!\"#$%&\\'()*+,-./:;<=>?@[\\\\]^_`{|}~'"
      ]
     },
     "execution_count": 18,
     "metadata": {},
     "output_type": "execute_result"
    }
   ],
   "source": [
    "string.punctuation"
   ]
  },
  {
   "cell_type": "code",
   "execution_count": 19,
   "id": "386bbf07-3a86-4712-be0b-3999bcd7e7b9",
   "metadata": {},
   "outputs": [],
   "source": [
    "translator = str.maketrans('','',string.punctuation)\n",
    "text = content.translate(translator)"
   ]
  },
  {
   "cell_type": "code",
   "execution_count": 20,
   "id": "42cab867-0512-4f2e-9caa-aa76ce16f38e",
   "metadata": {},
   "outputs": [
    {
     "data": {
      "text/plain": [
       "'A decision tree is a flowchartlike representation with internal nodes representing features branches representing rules and leaf nodes representing algorithm results This versatile supervised machinelearning algorithm applies to both classification and regression problems ie and power Decision trees are valued for their interpretability as the rules they generate are easy to understand\\n\\nWhat is Iterative Dichotomiser3 Algorithm\\nID3 or Iterative Dichotomiser3 Algorithm is used in machine learning for building decision trees from a given dataset It was developed in 1986 by Ross Quinlan It is a greedy algorithm that builds a decision tree by recursively partitioning the data set into smaller and smaller subsets until all data points in each subset belong to the same class It employs a topdown approach recursively selecting features to split the dataset based on information gain\\n\\nThе ID3 Iterative Dichotomiser 3 algorithm is a classic decision tree algorithm used for both classification and regression tasksID3 deals primarily with categorical properties which means that it can efficiently handle objects with a discrete set of values This property is consistent with its suitability for problems where the input features are categorical rather than continuousOne of the strengths of ID3 is its ability to generate interpretable decision trees The resulting tree structure is easily understood and visualized providing insight into the decisionmaking process However ID3 can be sensitive to noisy data and prone to overfitting capturing details in the training data that may not adequately account for new unseen data'"
      ]
     },
     "execution_count": 20,
     "metadata": {},
     "output_type": "execute_result"
    }
   ],
   "source": [
    "text"
   ]
  },
  {
   "cell_type": "code",
   "execution_count": 21,
   "id": "798c213a-4afa-41d6-9548-825f51510464",
   "metadata": {},
   "outputs": [
    {
     "name": "stdout",
     "output_type": "stream",
     "text": [
      "['A', 'decision', 'tree', 'is', 'a', 'flowchartlike', 'representation', 'with', 'internal', 'nodes', 'representing', 'features', 'branches', 'representing', 'rules', 'and', 'leaf', 'nodes', 'representing', 'algorithm', 'results', 'This', 'versatile', 'supervised', 'machinelearning', 'algorithm', 'applies', 'to', 'both', 'classification', 'and', 'regression', 'problems', 'ie', 'and', 'power', 'Decision', 'trees', 'are', 'valued', 'for', 'their', 'interpretability', 'as', 'the', 'rules', 'they', 'generate', 'are', 'easy', 'to', 'understand', 'What', 'is', 'Iterative', 'Dichotomiser3', 'Algorithm', 'ID3', 'or', 'Iterative', 'Dichotomiser3', 'Algorithm', 'is', 'used', 'in', 'machine', 'learning', 'for', 'building', 'decision', 'trees', 'from', 'a', 'given', 'dataset', 'It', 'was', 'developed', 'in', '1986', 'by', 'Ross', 'Quinlan', 'It', 'is', 'a', 'greedy', 'algorithm', 'that', 'builds', 'a', 'decision', 'tree', 'by', 'recursively', 'partitioning', 'the', 'data', 'set', 'into', 'smaller', 'and', 'smaller', 'subsets', 'until', 'all', 'data', 'points', 'in', 'each', 'subset', 'belong', 'to', 'the', 'same', 'class', 'It', 'employs', 'a', 'topdown', 'approach', 'recursively', 'selecting', 'features', 'to', 'split', 'the', 'dataset', 'based', 'on', 'information', 'gain', 'Thе', 'ID3', 'Iterative', 'Dichotomiser', '3', 'algorithm', 'is', 'a', 'classic', 'decision', 'tree', 'algorithm', 'used', 'for', 'both', 'classification', 'and', 'regression', 'tasksID3', 'deals', 'primarily', 'with', 'categorical', 'properties', 'which', 'means', 'that', 'it', 'can', 'efficiently', 'handle', 'objects', 'with', 'a', 'discrete', 'set', 'of', 'values', 'This', 'property', 'is', 'consistent', 'with', 'its', 'suitability', 'for', 'problems', 'where', 'the', 'input', 'features', 'are', 'categorical', 'rather', 'than', 'continuousOne', 'of', 'the', 'strengths', 'of', 'ID3', 'is', 'its', 'ability', 'to', 'generate', 'interpretable', 'decision', 'trees', 'The', 'resulting', 'tree', 'structure', 'is', 'easily', 'understood', 'and', 'visualized', 'providing', 'insight', 'into', 'the', 'decisionmaking', 'process', 'However', 'ID3', 'can', 'be', 'sensitive', 'to', 'noisy', 'data', 'and', 'prone', 'to', 'overfitting', 'capturing', 'details', 'in', 'the', 'training', 'data', 'that', 'may', 'not', 'adequately', 'account', 'for', 'new', 'unseen', 'data']\n"
     ]
    }
   ],
   "source": [
    "tokens = word_tokenize(text)\n",
    "print(tokens)"
   ]
  },
  {
   "cell_type": "code",
   "execution_count": 22,
   "id": "94e190ea-b765-47df-b519-900d7aec8d34",
   "metadata": {},
   "outputs": [],
   "source": [
    "tokens_sw = [word for word in tokens if word not in stopwords_eng]"
   ]
  },
  {
   "cell_type": "code",
   "execution_count": 23,
   "id": "e43bb5e1-ea17-4d43-bad2-c669728de6e6",
   "metadata": {
    "collapsed": true,
    "jupyter": {
     "outputs_hidden": true
    }
   },
   "outputs": [
    {
     "data": {
      "text/plain": [
       "['A',\n",
       " 'decision',\n",
       " 'tree',\n",
       " 'flowchartlike',\n",
       " 'representation',\n",
       " 'internal',\n",
       " 'nodes',\n",
       " 'representing',\n",
       " 'features',\n",
       " 'branches',\n",
       " 'representing',\n",
       " 'rules',\n",
       " 'leaf',\n",
       " 'nodes',\n",
       " 'representing',\n",
       " 'algorithm',\n",
       " 'results',\n",
       " 'This',\n",
       " 'versatile',\n",
       " 'supervised',\n",
       " 'machinelearning',\n",
       " 'algorithm',\n",
       " 'applies',\n",
       " 'classification',\n",
       " 'regression',\n",
       " 'problems',\n",
       " 'ie',\n",
       " 'power',\n",
       " 'Decision',\n",
       " 'trees',\n",
       " 'valued',\n",
       " 'interpretability',\n",
       " 'rules',\n",
       " 'generate',\n",
       " 'easy',\n",
       " 'understand',\n",
       " 'What',\n",
       " 'Iterative',\n",
       " 'Dichotomiser3',\n",
       " 'Algorithm',\n",
       " 'ID3',\n",
       " 'Iterative',\n",
       " 'Dichotomiser3',\n",
       " 'Algorithm',\n",
       " 'used',\n",
       " 'machine',\n",
       " 'learning',\n",
       " 'building',\n",
       " 'decision',\n",
       " 'trees',\n",
       " 'given',\n",
       " 'dataset',\n",
       " 'It',\n",
       " 'developed',\n",
       " '1986',\n",
       " 'Ross',\n",
       " 'Quinlan',\n",
       " 'It',\n",
       " 'greedy',\n",
       " 'algorithm',\n",
       " 'builds',\n",
       " 'decision',\n",
       " 'tree',\n",
       " 'recursively',\n",
       " 'partitioning',\n",
       " 'data',\n",
       " 'set',\n",
       " 'smaller',\n",
       " 'smaller',\n",
       " 'subsets',\n",
       " 'data',\n",
       " 'points',\n",
       " 'subset',\n",
       " 'belong',\n",
       " 'class',\n",
       " 'It',\n",
       " 'employs',\n",
       " 'topdown',\n",
       " 'approach',\n",
       " 'recursively',\n",
       " 'selecting',\n",
       " 'features',\n",
       " 'split',\n",
       " 'dataset',\n",
       " 'based',\n",
       " 'information',\n",
       " 'gain',\n",
       " 'Thе',\n",
       " 'ID3',\n",
       " 'Iterative',\n",
       " 'Dichotomiser',\n",
       " '3',\n",
       " 'algorithm',\n",
       " 'classic',\n",
       " 'decision',\n",
       " 'tree',\n",
       " 'algorithm',\n",
       " 'used',\n",
       " 'classification',\n",
       " 'regression',\n",
       " 'tasksID3',\n",
       " 'deals',\n",
       " 'primarily',\n",
       " 'categorical',\n",
       " 'properties',\n",
       " 'means',\n",
       " 'efficiently',\n",
       " 'handle',\n",
       " 'objects',\n",
       " 'discrete',\n",
       " 'set',\n",
       " 'values',\n",
       " 'This',\n",
       " 'property',\n",
       " 'consistent',\n",
       " 'suitability',\n",
       " 'problems',\n",
       " 'input',\n",
       " 'features',\n",
       " 'categorical',\n",
       " 'rather',\n",
       " 'continuousOne',\n",
       " 'strengths',\n",
       " 'ID3',\n",
       " 'ability',\n",
       " 'generate',\n",
       " 'interpretable',\n",
       " 'decision',\n",
       " 'trees',\n",
       " 'The',\n",
       " 'resulting',\n",
       " 'tree',\n",
       " 'structure',\n",
       " 'easily',\n",
       " 'understood',\n",
       " 'visualized',\n",
       " 'providing',\n",
       " 'insight',\n",
       " 'decisionmaking',\n",
       " 'process',\n",
       " 'However',\n",
       " 'ID3',\n",
       " 'sensitive',\n",
       " 'noisy',\n",
       " 'data',\n",
       " 'prone',\n",
       " 'overfitting',\n",
       " 'capturing',\n",
       " 'details',\n",
       " 'training',\n",
       " 'data',\n",
       " 'may',\n",
       " 'adequately',\n",
       " 'account',\n",
       " 'new',\n",
       " 'unseen',\n",
       " 'data']"
      ]
     },
     "execution_count": 23,
     "metadata": {},
     "output_type": "execute_result"
    }
   ],
   "source": [
    "tokens_sw"
   ]
  },
  {
   "cell_type": "code",
   "execution_count": 25,
   "id": "199a6ea1-c187-4111-a36c-654b704d0c2e",
   "metadata": {},
   "outputs": [],
   "source": [
    "most_occur = FreqDist(tokens_sw)"
   ]
  },
  {
   "cell_type": "code",
   "execution_count": 27,
   "id": "9b0c2ce6-fc16-49b8-b814-9064619b1d5f",
   "metadata": {},
   "outputs": [
    {
     "name": "stdout",
     "output_type": "stream",
     "text": [
      "<FreqDist with 114 samples and 157 outcomes>\n"
     ]
    }
   ],
   "source": [
    "print(most_occur)"
   ]
  },
  {
   "cell_type": "code",
   "execution_count": 28,
   "id": "a3a28a7e-55f2-4319-bdc5-7649387dae13",
   "metadata": {},
   "outputs": [],
   "source": [
    "text = ' '.join(tokens_sw)"
   ]
  },
  {
   "cell_type": "code",
   "execution_count": 29,
   "id": "2f3bd65b-390c-4008-8557-82508213f54c",
   "metadata": {},
   "outputs": [
    {
     "name": "stdout",
     "output_type": "stream",
     "text": [
      "A decision tree flowchartlike representation internal nodes representing features branches representing rules leaf nodes representing algorithm results This versatile supervised machinelearning algorithm applies classification regression problems ie power Decision trees valued interpretability rules generate easy understand What Iterative Dichotomiser3 Algorithm ID3 Iterative Dichotomiser3 Algorithm used machine learning building decision trees given dataset It developed 1986 Ross Quinlan It greedy algorithm builds decision tree recursively partitioning data set smaller smaller subsets data points subset belong class It employs topdown approach recursively selecting features split dataset based information gain Thе ID3 Iterative Dichotomiser 3 algorithm classic decision tree algorithm used classification regression tasksID3 deals primarily categorical properties means efficiently handle objects discrete set values This property consistent suitability problems input features categorical rather continuousOne strengths ID3 ability generate interpretable decision trees The resulting tree structure easily understood visualized providing insight decisionmaking process However ID3 sensitive noisy data prone overfitting capturing details training data may adequately account new unseen data\n"
     ]
    }
   ],
   "source": [
    "print(text)"
   ]
  },
  {
   "cell_type": "markdown",
   "id": "3802e116-2a4a-4e01-9157-c087c28604ab",
   "metadata": {},
   "source": [
    "# lemmatization\n",
    "\n",
    "for example ==> run , running , runs : run"
   ]
  },
  {
   "cell_type": "code",
   "execution_count": 30,
   "id": "73ecebab-d1eb-4d66-9f06-221f61d19cbf",
   "metadata": {},
   "outputs": [],
   "source": [
    "from nltk.stem import WordNetLemmatizer\n"
   ]
  },
  {
   "cell_type": "code",
   "execution_count": 34,
   "id": "7cd52af0-cca1-45b4-93df-9215bf54e9ba",
   "metadata": {},
   "outputs": [],
   "source": [
    "import nltk"
   ]
  },
  {
   "cell_type": "code",
   "execution_count": 35,
   "id": "28f1afc5-07fe-4920-83b2-749ed7d12004",
   "metadata": {},
   "outputs": [
    {
     "name": "stderr",
     "output_type": "stream",
     "text": [
      "[nltk_data] Downloading package wordnet to\n",
      "[nltk_data]     C:\\Users\\Dell\\AppData\\Roaming\\nltk_data...\n"
     ]
    },
    {
     "data": {
      "text/plain": [
       "True"
      ]
     },
     "execution_count": 35,
     "metadata": {},
     "output_type": "execute_result"
    }
   ],
   "source": [
    "nltk.download('wordnet')"
   ]
  },
  {
   "cell_type": "code",
   "execution_count": 43,
   "id": "196df0db-2588-4956-856d-73b836475f09",
   "metadata": {},
   "outputs": [],
   "source": [
    "words = ['run', 'running', 'ran', 'runs']\n",
    "lemmatizer = WordNetLemmatizer()\n",
    "l_words = [lemmatizer.lemmatize(w) for w in words]"
   ]
  },
  {
   "cell_type": "code",
   "execution_count": 44,
   "id": "b2f39b5e-c560-48b0-abe1-d054fc3d8dac",
   "metadata": {},
   "outputs": [
    {
     "data": {
      "text/plain": [
       "['run', 'running', 'ran', 'run']"
      ]
     },
     "execution_count": 44,
     "metadata": {},
     "output_type": "execute_result"
    }
   ],
   "source": [
    "l_words"
   ]
  },
  {
   "cell_type": "code",
   "execution_count": null,
   "id": "81d59dbc-c602-4039-87e5-3cb160a35637",
   "metadata": {},
   "outputs": [],
   "source": [
    "tokens_sw = []"
   ]
  },
  {
   "cell_type": "code",
   "execution_count": 45,
   "id": "b716d0ba-c044-464e-8045-8e3d780bb80c",
   "metadata": {},
   "outputs": [],
   "source": [
    "lemmatizer = WordNetLemmatizer()\n",
    "tokens_lm = [lemmatizer.lemmatize(w) for w in tokens_sw]"
   ]
  },
  {
   "cell_type": "code",
   "execution_count": 46,
   "id": "5f3be9d1-7719-4ee9-b65e-ee58929e0aee",
   "metadata": {},
   "outputs": [
    {
     "data": {
      "text/plain": [
       "['A',\n",
       " 'decision',\n",
       " 'tree',\n",
       " 'flowchartlike',\n",
       " 'representation',\n",
       " 'internal',\n",
       " 'node',\n",
       " 'representing',\n",
       " 'feature',\n",
       " 'branch',\n",
       " 'representing',\n",
       " 'rule',\n",
       " 'leaf',\n",
       " 'node',\n",
       " 'representing',\n",
       " 'algorithm',\n",
       " 'result',\n",
       " 'This',\n",
       " 'versatile',\n",
       " 'supervised',\n",
       " 'machinelearning',\n",
       " 'algorithm',\n",
       " 'applies',\n",
       " 'classification',\n",
       " 'regression',\n",
       " 'problem',\n",
       " 'ie',\n",
       " 'power',\n",
       " 'Decision',\n",
       " 'tree',\n",
       " 'valued',\n",
       " 'interpretability',\n",
       " 'rule',\n",
       " 'generate',\n",
       " 'easy',\n",
       " 'understand',\n",
       " 'What',\n",
       " 'Iterative',\n",
       " 'Dichotomiser3',\n",
       " 'Algorithm',\n",
       " 'ID3',\n",
       " 'Iterative',\n",
       " 'Dichotomiser3',\n",
       " 'Algorithm',\n",
       " 'used',\n",
       " 'machine',\n",
       " 'learning',\n",
       " 'building',\n",
       " 'decision',\n",
       " 'tree',\n",
       " 'given',\n",
       " 'dataset',\n",
       " 'It',\n",
       " 'developed',\n",
       " '1986',\n",
       " 'Ross',\n",
       " 'Quinlan',\n",
       " 'It',\n",
       " 'greedy',\n",
       " 'algorithm',\n",
       " 'build',\n",
       " 'decision',\n",
       " 'tree',\n",
       " 'recursively',\n",
       " 'partitioning',\n",
       " 'data',\n",
       " 'set',\n",
       " 'smaller',\n",
       " 'smaller',\n",
       " 'subset',\n",
       " 'data',\n",
       " 'point',\n",
       " 'subset',\n",
       " 'belong',\n",
       " 'class',\n",
       " 'It',\n",
       " 'employ',\n",
       " 'topdown',\n",
       " 'approach',\n",
       " 'recursively',\n",
       " 'selecting',\n",
       " 'feature',\n",
       " 'split',\n",
       " 'dataset',\n",
       " 'based',\n",
       " 'information',\n",
       " 'gain',\n",
       " 'Thе',\n",
       " 'ID3',\n",
       " 'Iterative',\n",
       " 'Dichotomiser',\n",
       " '3',\n",
       " 'algorithm',\n",
       " 'classic',\n",
       " 'decision',\n",
       " 'tree',\n",
       " 'algorithm',\n",
       " 'used',\n",
       " 'classification',\n",
       " 'regression',\n",
       " 'tasksID3',\n",
       " 'deal',\n",
       " 'primarily',\n",
       " 'categorical',\n",
       " 'property',\n",
       " 'mean',\n",
       " 'efficiently',\n",
       " 'handle',\n",
       " 'object',\n",
       " 'discrete',\n",
       " 'set',\n",
       " 'value',\n",
       " 'This',\n",
       " 'property',\n",
       " 'consistent',\n",
       " 'suitability',\n",
       " 'problem',\n",
       " 'input',\n",
       " 'feature',\n",
       " 'categorical',\n",
       " 'rather',\n",
       " 'continuousOne',\n",
       " 'strength',\n",
       " 'ID3',\n",
       " 'ability',\n",
       " 'generate',\n",
       " 'interpretable',\n",
       " 'decision',\n",
       " 'tree',\n",
       " 'The',\n",
       " 'resulting',\n",
       " 'tree',\n",
       " 'structure',\n",
       " 'easily',\n",
       " 'understood',\n",
       " 'visualized',\n",
       " 'providing',\n",
       " 'insight',\n",
       " 'decisionmaking',\n",
       " 'process',\n",
       " 'However',\n",
       " 'ID3',\n",
       " 'sensitive',\n",
       " 'noisy',\n",
       " 'data',\n",
       " 'prone',\n",
       " 'overfitting',\n",
       " 'capturing',\n",
       " 'detail',\n",
       " 'training',\n",
       " 'data',\n",
       " 'may',\n",
       " 'adequately',\n",
       " 'account',\n",
       " 'new',\n",
       " 'unseen',\n",
       " 'data']"
      ]
     },
     "execution_count": 46,
     "metadata": {},
     "output_type": "execute_result"
    }
   ],
   "source": [
    "tokens_lm"
   ]
  },
  {
   "cell_type": "code",
   "execution_count": 47,
   "id": "7964d120-9ad0-4aff-9dad-d7f5419f3652",
   "metadata": {},
   "outputs": [],
   "source": [
    "text = ' '.join(tokens_lm)"
   ]
  },
  {
   "cell_type": "code",
   "execution_count": 48,
   "id": "c70950f3-23ca-4721-9e93-5cc07e4d118c",
   "metadata": {},
   "outputs": [
    {
     "data": {
      "text/plain": [
       "'A decision tree flowchartlike representation internal node representing feature branch representing rule leaf node representing algorithm result This versatile supervised machinelearning algorithm applies classification regression problem ie power Decision tree valued interpretability rule generate easy understand What Iterative Dichotomiser3 Algorithm ID3 Iterative Dichotomiser3 Algorithm used machine learning building decision tree given dataset It developed 1986 Ross Quinlan It greedy algorithm build decision tree recursively partitioning data set smaller smaller subset data point subset belong class It employ topdown approach recursively selecting feature split dataset based information gain Thе ID3 Iterative Dichotomiser 3 algorithm classic decision tree algorithm used classification regression tasksID3 deal primarily categorical property mean efficiently handle object discrete set value This property consistent suitability problem input feature categorical rather continuousOne strength ID3 ability generate interpretable decision tree The resulting tree structure easily understood visualized providing insight decisionmaking process However ID3 sensitive noisy data prone overfitting capturing detail training data may adequately account new unseen data'"
      ]
     },
     "execution_count": 48,
     "metadata": {},
     "output_type": "execute_result"
    }
   ],
   "source": [
    "text"
   ]
  },
  {
   "cell_type": "markdown",
   "id": "c288921f-701a-457a-ab6b-067b62cd9c20",
   "metadata": {},
   "source": [
    "# wordCloud"
   ]
  },
  {
   "cell_type": "code",
   "execution_count": 52,
   "id": "2b08ffb4-5114-4bde-8fc2-7f54383cfdec",
   "metadata": {},
   "outputs": [],
   "source": [
    "from wordcloud import WordCloud"
   ]
  },
  {
   "cell_type": "code",
   "execution_count": 50,
   "id": "8b1f1a63-3f18-4591-bafc-49727dd49a9b",
   "metadata": {},
   "outputs": [
    {
     "name": "stdout",
     "output_type": "stream",
     "text": [
      "Defaulting to user installation because normal site-packages is not writeable\n",
      "Collecting wordcloud\n",
      "  Downloading wordcloud-1.9.4-cp313-cp313-win_amd64.whl.metadata (3.5 kB)\n",
      "Requirement already satisfied: numpy>=1.6.1 in c:\\users\\dell\\appdata\\local\\packages\\pythonsoftwarefoundation.python.3.13_qbz5n2kfra8p0\\localcache\\local-packages\\python313\\site-packages (from wordcloud) (2.2.6)\n",
      "Requirement already satisfied: pillow in c:\\users\\dell\\appdata\\local\\packages\\pythonsoftwarefoundation.python.3.13_qbz5n2kfra8p0\\localcache\\local-packages\\python313\\site-packages (from wordcloud) (11.2.1)\n",
      "Requirement already satisfied: matplotlib in c:\\users\\dell\\appdata\\local\\packages\\pythonsoftwarefoundation.python.3.13_qbz5n2kfra8p0\\localcache\\local-packages\\python313\\site-packages (from wordcloud) (3.10.3)\n",
      "Requirement already satisfied: contourpy>=1.0.1 in c:\\users\\dell\\appdata\\local\\packages\\pythonsoftwarefoundation.python.3.13_qbz5n2kfra8p0\\localcache\\local-packages\\python313\\site-packages (from matplotlib->wordcloud) (1.3.2)\n",
      "Requirement already satisfied: cycler>=0.10 in c:\\users\\dell\\appdata\\local\\packages\\pythonsoftwarefoundation.python.3.13_qbz5n2kfra8p0\\localcache\\local-packages\\python313\\site-packages (from matplotlib->wordcloud) (0.12.1)\n",
      "Requirement already satisfied: fonttools>=4.22.0 in c:\\users\\dell\\appdata\\local\\packages\\pythonsoftwarefoundation.python.3.13_qbz5n2kfra8p0\\localcache\\local-packages\\python313\\site-packages (from matplotlib->wordcloud) (4.58.1)\n",
      "Requirement already satisfied: kiwisolver>=1.3.1 in c:\\users\\dell\\appdata\\local\\packages\\pythonsoftwarefoundation.python.3.13_qbz5n2kfra8p0\\localcache\\local-packages\\python313\\site-packages (from matplotlib->wordcloud) (1.4.8)\n",
      "Requirement already satisfied: packaging>=20.0 in c:\\users\\dell\\appdata\\local\\packages\\pythonsoftwarefoundation.python.3.13_qbz5n2kfra8p0\\localcache\\local-packages\\python313\\site-packages (from matplotlib->wordcloud) (25.0)\n",
      "Requirement already satisfied: pyparsing>=2.3.1 in c:\\users\\dell\\appdata\\local\\packages\\pythonsoftwarefoundation.python.3.13_qbz5n2kfra8p0\\localcache\\local-packages\\python313\\site-packages (from matplotlib->wordcloud) (3.2.3)\n",
      "Requirement already satisfied: python-dateutil>=2.7 in c:\\users\\dell\\appdata\\local\\packages\\pythonsoftwarefoundation.python.3.13_qbz5n2kfra8p0\\localcache\\local-packages\\python313\\site-packages (from matplotlib->wordcloud) (2.9.0.post0)\n",
      "Requirement already satisfied: six>=1.5 in c:\\users\\dell\\appdata\\local\\packages\\pythonsoftwarefoundation.python.3.13_qbz5n2kfra8p0\\localcache\\local-packages\\python313\\site-packages (from python-dateutil>=2.7->matplotlib->wordcloud) (1.17.0)\n",
      "Downloading wordcloud-1.9.4-cp313-cp313-win_amd64.whl (300 kB)\n",
      "Installing collected packages: wordcloud\n",
      "Successfully installed wordcloud-1.9.4\n",
      "Note: you may need to restart the kernel to use updated packages.\n"
     ]
    },
    {
     "name": "stderr",
     "output_type": "stream",
     "text": [
      "  WARNING: The script wordcloud_cli.exe is installed in 'C:\\Users\\Dell\\AppData\\Local\\Packages\\PythonSoftwareFoundation.Python.3.13_qbz5n2kfra8p0\\LocalCache\\local-packages\\Python313\\Scripts' which is not on PATH.\n",
      "  Consider adding this directory to PATH or, if you prefer to suppress this warning, use --no-warn-script-location.\n"
     ]
    }
   ],
   "source": [
    "pip install wordcloud\n"
   ]
  },
  {
   "cell_type": "code",
   "execution_count": 51,
   "id": "e84211e3-46be-4fb4-992c-348044959b7e",
   "metadata": {},
   "outputs": [],
   "source": [
    "from wordcloud import WordCloud\n",
    "import matplotlib.pyplot as plt"
   ]
  },
  {
   "cell_type": "code",
   "execution_count": 68,
   "id": "c42c708f-b4b3-4de3-954e-283b51d9d003",
   "metadata": {},
   "outputs": [
    {
     "data": {
      "text/plain": [
       "<wordcloud.wordcloud.WordCloud at 0x1fc8d555590>"
      ]
     },
     "execution_count": 68,
     "metadata": {},
     "output_type": "execute_result"
    }
   ],
   "source": [
    "wc = WordCloud(background_color = 'white')\n",
    "wc.generate(text)"
   ]
  },
  {
   "cell_type": "code",
   "execution_count": 72,
   "id": "8c086b08-f8f0-4999-a6da-66929db1e64a",
   "metadata": {},
   "outputs": [
    {
     "data": {
      "image/png": "[encoded data removed]",
      "text/plain": [
       "<Figure size 640x480 with 1 Axes>"
      ]
     },
     "metadata": {},
     "output_type": "display_data"
    }
   ],
   "source": [
    "plt.imshow(wc)\n",
    "# plt.figure(figsize=(10, 5))\n",
    "plt.axis('off')\n",
    "plt.show()"
   ]
  },
  {
   "cell_type": "markdown",
   "id": "1ba9cb45-4a0b-40e3-b795-cfbc365e6b91",
   "metadata": {},
   "source": [
    "#### stemming\n"
   ]
  },
  {
   "cell_type": "code",
   "execution_count": 73,
   "id": "70160ad5-a975-4abc-8805-150e7f9feb6e",
   "metadata": {},
   "outputs": [],
   "source": [
    "words = ['run', 'running', 'ran', 'runs']\n"
   ]
  },
  {
   "cell_type": "code",
   "execution_count": 74,
   "id": "30a4cfe2-569e-4911-b210-8810baa09c67",
   "metadata": {},
   "outputs": [],
   "source": [
    "from nltk.stem import PorterStemmer"
   ]
  },
  {
   "cell_type": "code",
   "execution_count": 75,
   "id": "d733f3d7-e02c-41cc-8a6f-def0f8d5b0c7",
   "metadata": {},
   "outputs": [],
   "source": [
    "sm = PorterStemmer()\n",
    "words_sm = [sm.stem(w) for w in words]"
   ]
  },
  {
   "cell_type": "code",
   "execution_count": 76,
   "id": "4d63d256-7fc2-4a2a-b1fa-03cea342dc0d",
   "metadata": {},
   "outputs": [
    {
     "data": {
      "text/plain": [
       "['run', 'run', 'ran', 'run']"
      ]
     },
     "execution_count": 76,
     "metadata": {},
     "output_type": "execute_result"
    }
   ],
   "source": [
    "words_sm"
   ]
  },
  {
   "cell_type": "code",
   "execution_count": null,
   "id": "046cf52c-907f-44b2-9f33-69ab04f2ac5e",
   "metadata": {},
   "outputs": [],
   "source": []
  }
 ],
 "metadata": {
  "kernelspec": {
   "display_name": "Python 3 (ipykernel)",
   "language": "python",
   "name": "python3"
  },
  "language_info": {
   "codemirror_mode": {
    "name": "ipython",
    "version": 3
   },
   "file_extension": ".py",
   "mimetype": "text/x-python",
   "name": "python",
   "nbconvert_exporter": "python",
   "pygments_lexer": "ipython3",
   "version": "3.13.5"
  }
 },
 "nbformat": 4,
 "nbformat_minor": 5
}
